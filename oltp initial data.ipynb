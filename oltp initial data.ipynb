{
 "cells": [
  {
   "cell_type": "code",
   "execution_count": null,
   "id": "51625280",
   "metadata": {},
   "outputs": [],
   "source": [
    "#!pip install faker"
   ]
  },
  {
   "cell_type": "code",
   "execution_count": null,
   "id": "6a2486b5",
   "metadata": {},
   "outputs": [],
   "source": [
    "#pip install pymysql"
   ]
  },
  {
   "cell_type": "code",
   "execution_count": 31,
   "id": "cf244f05",
   "metadata": {},
   "outputs": [],
   "source": [
    "#importing necessary libraries\n",
    "import pandas as pd\n",
    "import numpy as np\n",
    "import mysql.connector\n",
    "from datetime import datetime, timedelta"
   ]
  },
  {
   "cell_type": "code",
   "execution_count": 32,
   "id": "8f1a6233",
   "metadata": {},
   "outputs": [],
   "source": [
    "from faker import Faker\n",
    "fake = Faker('en_IN')"
   ]
  },
  {
   "cell_type": "code",
   "execution_count": 33,
   "id": "6655511c",
   "metadata": {
    "scrolled": true
   },
   "outputs": [
    {
     "name": "stderr",
     "output_type": "stream",
     "text": [
      "C:\\Users\\pothula.yamini\\AppData\\Local\\Temp\\ipykernel_7272\\2382207158.py:5: SADeprecationWarning: Calling URL() directly is deprecated and will be disabled in a future release.  The public constructor for URL is now the URL.create() method.\n",
      "  sqlalchemy.engine.url.URL(\n"
     ]
    }
   ],
   "source": [
    "#connection to sql database\n",
    "import sqlalchemy, pymysql\n",
    "from sqlalchemy.dialects import mysql\n",
    "import pandas as pd\n",
    "db = sqlalchemy.create_engine(\n",
    "     sqlalchemy.engine.url.URL(\n",
    "          drivername='mysql+pymysql',\n",
    "          username='root',\n",
    "          password=\"Yamini@kvt12\",\n",
    "          host='35.196.234.121',\n",
    "          database=\"ufh-db\"\n",
    "     )\n",
    ")"
   ]
  },
  {
   "cell_type": "code",
   "execution_count": null,
   "id": "6d38ed77",
   "metadata": {},
   "outputs": [],
   "source": []
  },
  {
   "cell_type": "markdown",
   "id": "03088262",
   "metadata": {},
   "source": [
    "# Generate Customer Table Data"
   ]
  },
  {
   "cell_type": "code",
   "execution_count": 61,
   "id": "61c2b590",
   "metadata": {},
   "outputs": [],
   "source": [
    "#column names of customer_master tables\n",
    "cust_fields= ['customerid','name','address','city','state','pincode','update_timestamp']"
   ]
  },
  {
   "cell_type": "code",
   "execution_count": 62,
   "id": "e93250f7",
   "metadata": {},
   "outputs": [],
   "source": [
    "#Dictionary of states and corresponding cities\n",
    "states = {'Madhya Pradesh':['Indore','Bhopal','Gwalior','Ujjain','Ratlam'],\n",
    "          'Maharashtra':['Mumbai','Nagpur','Pune'],\n",
    "          'Andhra Pradesh' : ['Visakhpatnam','Vijaynagaram','Hyderabad','Rajahmundry'],\n",
    "          'Karnataka':['Bangalore','Mangalore','Mysore'],\n",
    "          'Uttar Pradesh':['Noida','Lucknow','Mathura'],\n",
    "          'Jharkhand' : ['Ranchi'],\n",
    "          'Chhattisgarh':['Raipur']}"
   ]
  },
  {
   "cell_type": "code",
   "execution_count": 63,
   "id": "77eba3e9",
   "metadata": {},
   "outputs": [],
   "source": [
    "#creating customer dataframe \n",
    "customer = pd.DataFrame(columns=cust_fields,index=range(1,1001))\n",
    "Faker.seed(10)\n",
    "for i in range(1,1001):\n",
    "    customer['customerid'][i]=i\n",
    "    customer['name'][i]=fake.name()\n",
    "    customer['address'][i]=fake.street_address()    \n",
    "    customer['state'][i]=fake.random_element(states.keys())\n",
    "    customer['city'][i]=fake.random_element(states[customer['state'][i]])\n",
    "    customer['pincode'][i]=fake.postcode()\n",
    "    customer['update_timestamp'][i]=fake.date_time_this_year()"
   ]
  },
  {
   "cell_type": "markdown",
   "id": "ea1bc692",
   "metadata": {},
   "source": [
    "### loading customer table into  CUSTOMER_MASTER"
   ]
  },
  {
   "cell_type": "code",
   "execution_count": 66,
   "id": "2cf868c2",
   "metadata": {},
   "outputs": [
    {
     "data": {
      "text/plain": [
       "1000"
      ]
     },
     "execution_count": 66,
     "metadata": {},
     "output_type": "execute_result"
    }
   ],
   "source": [
    "#appending customer dataframe to CUSTOMER_MASTER table in sql instance\n",
    "customer.to_sql('CUSTOMER_MASTER', con=db, if_exists='append',index=False)"
   ]
  },
  {
   "cell_type": "code",
   "execution_count": 67,
   "id": "51646a26",
   "metadata": {},
   "outputs": [],
   "source": [
    "qry='select * from CUSTOMER_MASTER'"
   ]
  },
  {
   "cell_type": "code",
   "execution_count": 68,
   "id": "38d20f71",
   "metadata": {
    "scrolled": true
   },
   "outputs": [],
   "source": [
    "result= pd.read_sql(qry,con=db)"
   ]
  },
  {
   "cell_type": "code",
   "execution_count": 69,
   "id": "c68bac00",
   "metadata": {},
   "outputs": [
    {
     "data": {
      "text/html": [
       "<div>\n",
       "<style scoped>\n",
       "    .dataframe tbody tr th:only-of-type {\n",
       "        vertical-align: middle;\n",
       "    }\n",
       "\n",
       "    .dataframe tbody tr th {\n",
       "        vertical-align: top;\n",
       "    }\n",
       "\n",
       "    .dataframe thead th {\n",
       "        text-align: right;\n",
       "    }\n",
       "</style>\n",
       "<table border=\"1\" class=\"dataframe\">\n",
       "  <thead>\n",
       "    <tr style=\"text-align: right;\">\n",
       "      <th></th>\n",
       "      <th>Customerid</th>\n",
       "      <th>Name</th>\n",
       "      <th>Address</th>\n",
       "      <th>City</th>\n",
       "      <th>State</th>\n",
       "      <th>Pincode</th>\n",
       "      <th>Update_timestamp</th>\n",
       "    </tr>\n",
       "  </thead>\n",
       "  <tbody>\n",
       "    <tr>\n",
       "      <th>0</th>\n",
       "      <td>1</td>\n",
       "      <td>Aaryahi Khurana</td>\n",
       "      <td>774, Badal Street</td>\n",
       "      <td>Lucknow</td>\n",
       "      <td>Uttar Pradesh</td>\n",
       "      <td>135062</td>\n",
       "      <td>2022-08-23 06:08:38</td>\n",
       "    </tr>\n",
       "    <tr>\n",
       "      <th>1</th>\n",
       "      <td>2</td>\n",
       "      <td>Vaibhav Kade</td>\n",
       "      <td>47/245\\nKari Street</td>\n",
       "      <td>Raipur</td>\n",
       "      <td>Chhattisgarh</td>\n",
       "      <td>960903</td>\n",
       "      <td>2022-02-22 00:42:52</td>\n",
       "    </tr>\n",
       "    <tr>\n",
       "      <th>2</th>\n",
       "      <td>3</td>\n",
       "      <td>Romil Loyal</td>\n",
       "      <td>587\\nKeer Marg</td>\n",
       "      <td>Ratlam</td>\n",
       "      <td>Madhya Pradesh</td>\n",
       "      <td>823630</td>\n",
       "      <td>2022-01-13 07:54:02</td>\n",
       "    </tr>\n",
       "    <tr>\n",
       "      <th>3</th>\n",
       "      <td>4</td>\n",
       "      <td>Romil Taneja</td>\n",
       "      <td>12/69, Rama Path</td>\n",
       "      <td>Mumbai</td>\n",
       "      <td>Maharashtra</td>\n",
       "      <td>723566</td>\n",
       "      <td>2022-06-23 01:21:38</td>\n",
       "    </tr>\n",
       "    <tr>\n",
       "      <th>4</th>\n",
       "      <td>5</td>\n",
       "      <td>Pihu Devan</td>\n",
       "      <td>82/14, Dora Chowk</td>\n",
       "      <td>Pune</td>\n",
       "      <td>Maharashtra</td>\n",
       "      <td>275563</td>\n",
       "      <td>2022-01-02 22:40:59</td>\n",
       "    </tr>\n",
       "  </tbody>\n",
       "</table>\n",
       "</div>"
      ],
      "text/plain": [
       "   Customerid             Name              Address     City           State  \\\n",
       "0           1  Aaryahi Khurana    774, Badal Street  Lucknow   Uttar Pradesh   \n",
       "1           2     Vaibhav Kade  47/245\\nKari Street   Raipur    Chhattisgarh   \n",
       "2           3      Romil Loyal       587\\nKeer Marg   Ratlam  Madhya Pradesh   \n",
       "3           4     Romil Taneja     12/69, Rama Path   Mumbai     Maharashtra   \n",
       "4           5       Pihu Devan    82/14, Dora Chowk     Pune     Maharashtra   \n",
       "\n",
       "   Pincode    Update_timestamp  \n",
       "0   135062 2022-08-23 06:08:38  \n",
       "1   960903 2022-02-22 00:42:52  \n",
       "2   823630 2022-01-13 07:54:02  \n",
       "3   723566 2022-06-23 01:21:38  \n",
       "4   275563 2022-01-02 22:40:59  "
      ]
     },
     "execution_count": 69,
     "metadata": {},
     "output_type": "execute_result"
    }
   ],
   "source": [
    "result.head()"
   ]
  },
  {
   "cell_type": "markdown",
   "id": "9952b2e0",
   "metadata": {},
   "source": [
    "# Generate Product_master Table Data"
   ]
  },
  {
   "cell_type": "code",
   "execution_count": 70,
   "id": "52d32306",
   "metadata": {},
   "outputs": [],
   "source": [
    "product_attributes = ['Productid','Productcode','Productname','Sku','Rate','Isactive']"
   ]
  },
  {
   "cell_type": "code",
   "execution_count": 71,
   "id": "b397f7cd",
   "metadata": {},
   "outputs": [],
   "source": [
    "# List of available products on UFH\n",
    "products = ['Organic India Chyavanprash',\n",
    "            'Aashirwad Atta',\n",
    "            'Herbal Strategi Oil',\n",
    "            'Herbal Strategi Floor Cleaner',\n",
    "            'Soulfull Ragi Bites Choco Fills',\n",
    "            'Natureland Puffed Wheat',\n",
    "            'Natureland Pasta Macroni',\n",
    "            'Natureland Rice Poha',\n",
    "            'Pure Sure Organic Chakli',\n",
    "            'Organic Wellness Chilli Chocolate',\n",
    "            'Natureland Green Tea',\n",
    "            'Organic India Tulsi Tummy',\n",
    "            'Organic Wellness Turmeric Chocolate',\n",
    "            'Organic Wellness Ginger Tea',\n",
    "            '24 Mantra Organic Orange Juice',\n",
    "            '24 Mantra Organic Mango Juice',\n",
    "            'Ayuda Organics Desi Jaggery',\n",
    "            '24 Mantra Handpounded Rice',\n",
    "            '24 Mantra Idly Rice',\n",
    "            'Natureland Brown Sugar',\n",
    "            'Natureland Sunflower Oil',\n",
    "            'Natureland Mustard Oil',\n",
    "            'Natureland Jaggery Powder',\n",
    "            'Natureland Red Rice',\n",
    "            'Natureland Rice Flour',\n",
    "            'Biotique Bio White Face Wash',\n",
    "            'Vitro Naturals Aloe Face Wipes',\n",
    "            'Biotique Bio Honey Gel Face Wash',\n",
    "            'Biotique Bio Orris Root',\n",
    "            'Vitro Naturals Aloe Face Wash',\n",
    "            'BioPure Hand Sanitizer',\n",
    "            'Soultree Lipgloss Nude Pink',\n",
    "            'Soultree Lipgloss Rich Earth',\n",
    "            'Soultree Lipgloss Lush Berry',\n",
    "            'Soultree Lipstick Iced Plum',\n",
    "            'Soultree Kajal Pure Black',\n",
    "            'Soultree Grey Glow Kajal',\n",
    "            'Ayuda Organics Chhundo (Sun Dried)',\n",
    "            'Ayuda Organics Raw Honey',\n",
    "            'Ayuda Organics Homemade Mango Pickle',\n",
    "            'Ayuda Organics Homemade Chana Methi Pickle',\n",
    "            'Natureland Garlic Pickle',\n",
    "            'Natureland Pineapple Jam',\n",
    "            'Natureland Pineapple Jam',\n",
    "            'Natureland Honey',\n",
    "            'Natureland Walnut',\n",
    "            'Natureland Cashew',\n",
    "            'Natureland Raisins',\n",
    "            'Natureland Almonds',\n",
    "            'Pure Sure Organic Rice Dosa Mix'\n",
    "           ]"
   ]
  },
  {
   "cell_type": "code",
   "execution_count": 72,
   "id": "b0c9c7ca",
   "metadata": {},
   "outputs": [],
   "source": [
    "#creating product dataframe\n",
    "product = pd.DataFrame(columns = product_attributes, index=range(1,201))\n",
    "Faker.seed(10)\n",
    "for i in range(1,51):\n",
    "    product_name = products[i-1]\n",
    "    for j in range((i*4)-3,(i*4)+1):        \n",
    "        product['Productid'][j]=j\n",
    "        product['Productcode'][j]=fake.bothify('????-########', letters='ABCDE')\n",
    "        product['Productname'][j]= product_name\n",
    "        sku = 0\n",
    "        if j%4 == 1:\n",
    "            sku = fake.random_int(min=1, max=10)\n",
    "        else:\n",
    "            sku = int(product['Sku'][j-1][:-2]) + 2\n",
    "        product['Sku'][j] = str(sku) + 'KG'\n",
    "        product['Rate'][j]=round(np.random.normal(1000,200))\n",
    "        product['Isactive'][j]=fake.boolean()"
   ]
  },
  {
   "cell_type": "markdown",
   "id": "0187d42b",
   "metadata": {},
   "source": [
    "### loading PRODUCT_MASTER table"
   ]
  },
  {
   "cell_type": "code",
   "execution_count": 73,
   "id": "8e701842",
   "metadata": {},
   "outputs": [
    {
     "data": {
      "text/plain": [
       "200"
      ]
     },
     "execution_count": 73,
     "metadata": {},
     "output_type": "execute_result"
    }
   ],
   "source": [
    "product.to_sql('PRODUCT_MASTER', con=db, if_exists='append',index=False)"
   ]
  },
  {
   "cell_type": "code",
   "execution_count": 74,
   "id": "4fa6ba98",
   "metadata": {},
   "outputs": [],
   "source": [
    "qry='select * from PRODUCT_MASTER'"
   ]
  },
  {
   "cell_type": "code",
   "execution_count": 75,
   "id": "fd426fd6",
   "metadata": {},
   "outputs": [],
   "source": [
    "result= pd.read_sql(qry,con=db)"
   ]
  },
  {
   "cell_type": "code",
   "execution_count": 76,
   "id": "4cd0d054",
   "metadata": {},
   "outputs": [
    {
     "data": {
      "text/html": [
       "<div>\n",
       "<style scoped>\n",
       "    .dataframe tbody tr th:only-of-type {\n",
       "        vertical-align: middle;\n",
       "    }\n",
       "\n",
       "    .dataframe tbody tr th {\n",
       "        vertical-align: top;\n",
       "    }\n",
       "\n",
       "    .dataframe thead th {\n",
       "        text-align: right;\n",
       "    }\n",
       "</style>\n",
       "<table border=\"1\" class=\"dataframe\">\n",
       "  <thead>\n",
       "    <tr style=\"text-align: right;\">\n",
       "      <th></th>\n",
       "      <th>Productid</th>\n",
       "      <th>Productcode</th>\n",
       "      <th>Productname</th>\n",
       "      <th>Sku</th>\n",
       "      <th>Rate</th>\n",
       "      <th>Isactive</th>\n",
       "    </tr>\n",
       "  </thead>\n",
       "  <tbody>\n",
       "    <tr>\n",
       "      <th>0</th>\n",
       "      <td>1</td>\n",
       "      <td>DCBA-90679037</td>\n",
       "      <td>Organic India Chyavanprash</td>\n",
       "      <td>9KG</td>\n",
       "      <td>965</td>\n",
       "      <td>0</td>\n",
       "    </tr>\n",
       "    <tr>\n",
       "      <th>1</th>\n",
       "      <td>2</td>\n",
       "      <td>CDDC-51350629</td>\n",
       "      <td>Organic India Chyavanprash</td>\n",
       "      <td>11KG</td>\n",
       "      <td>1003</td>\n",
       "      <td>0</td>\n",
       "    </tr>\n",
       "    <tr>\n",
       "      <th>2</th>\n",
       "      <td>3</td>\n",
       "      <td>DEDA-47245273</td>\n",
       "      <td>Organic India Chyavanprash</td>\n",
       "      <td>13KG</td>\n",
       "      <td>913</td>\n",
       "      <td>0</td>\n",
       "    </tr>\n",
       "    <tr>\n",
       "      <th>3</th>\n",
       "      <td>4</td>\n",
       "      <td>CEDD-03234853</td>\n",
       "      <td>Organic India Chyavanprash</td>\n",
       "      <td>15KG</td>\n",
       "      <td>920</td>\n",
       "      <td>0</td>\n",
       "    </tr>\n",
       "    <tr>\n",
       "      <th>4</th>\n",
       "      <td>5</td>\n",
       "      <td>AADC-19582363</td>\n",
       "      <td>Aashirwad Atta</td>\n",
       "      <td>10KG</td>\n",
       "      <td>895</td>\n",
       "      <td>0</td>\n",
       "    </tr>\n",
       "    <tr>\n",
       "      <th>5</th>\n",
       "      <td>6</td>\n",
       "      <td>BAAD-18126959</td>\n",
       "      <td>Aashirwad Atta</td>\n",
       "      <td>12KG</td>\n",
       "      <td>1147</td>\n",
       "      <td>1</td>\n",
       "    </tr>\n",
       "    <tr>\n",
       "      <th>6</th>\n",
       "      <td>7</td>\n",
       "      <td>EEBA-35667342</td>\n",
       "      <td>Aashirwad Atta</td>\n",
       "      <td>14KG</td>\n",
       "      <td>1040</td>\n",
       "      <td>1</td>\n",
       "    </tr>\n",
       "    <tr>\n",
       "      <th>7</th>\n",
       "      <td>8</td>\n",
       "      <td>DBAE-74222755</td>\n",
       "      <td>Aashirwad Atta</td>\n",
       "      <td>16KG</td>\n",
       "      <td>782</td>\n",
       "      <td>0</td>\n",
       "    </tr>\n",
       "    <tr>\n",
       "      <th>8</th>\n",
       "      <td>9</td>\n",
       "      <td>EBDD-05531476</td>\n",
       "      <td>Herbal Strategi Oil</td>\n",
       "      <td>4KG</td>\n",
       "      <td>850</td>\n",
       "      <td>0</td>\n",
       "    </tr>\n",
       "    <tr>\n",
       "      <th>9</th>\n",
       "      <td>10</td>\n",
       "      <td>DDDB-84879712</td>\n",
       "      <td>Herbal Strategi Oil</td>\n",
       "      <td>6KG</td>\n",
       "      <td>1147</td>\n",
       "      <td>0</td>\n",
       "    </tr>\n",
       "    <tr>\n",
       "      <th>10</th>\n",
       "      <td>11</td>\n",
       "      <td>DADA-89586728</td>\n",
       "      <td>Herbal Strategi Oil</td>\n",
       "      <td>8KG</td>\n",
       "      <td>865</td>\n",
       "      <td>1</td>\n",
       "    </tr>\n",
       "    <tr>\n",
       "      <th>11</th>\n",
       "      <td>12</td>\n",
       "      <td>EDDB-78105121</td>\n",
       "      <td>Herbal Strategi Oil</td>\n",
       "      <td>10KG</td>\n",
       "      <td>1013</td>\n",
       "      <td>0</td>\n",
       "    </tr>\n",
       "    <tr>\n",
       "      <th>12</th>\n",
       "      <td>13</td>\n",
       "      <td>EEBB-68754765</td>\n",
       "      <td>Herbal Strategi Floor Cleaner</td>\n",
       "      <td>6KG</td>\n",
       "      <td>834</td>\n",
       "      <td>0</td>\n",
       "    </tr>\n",
       "    <tr>\n",
       "      <th>13</th>\n",
       "      <td>14</td>\n",
       "      <td>DBCA-03997014</td>\n",
       "      <td>Herbal Strategi Floor Cleaner</td>\n",
       "      <td>8KG</td>\n",
       "      <td>997</td>\n",
       "      <td>1</td>\n",
       "    </tr>\n",
       "    <tr>\n",
       "      <th>14</th>\n",
       "      <td>15</td>\n",
       "      <td>EDBC-98142725</td>\n",
       "      <td>Herbal Strategi Floor Cleaner</td>\n",
       "      <td>10KG</td>\n",
       "      <td>1299</td>\n",
       "      <td>1</td>\n",
       "    </tr>\n",
       "    <tr>\n",
       "      <th>15</th>\n",
       "      <td>16</td>\n",
       "      <td>EDDE-19363147</td>\n",
       "      <td>Herbal Strategi Floor Cleaner</td>\n",
       "      <td>12KG</td>\n",
       "      <td>871</td>\n",
       "      <td>1</td>\n",
       "    </tr>\n",
       "    <tr>\n",
       "      <th>16</th>\n",
       "      <td>17</td>\n",
       "      <td>DDBA-49510369</td>\n",
       "      <td>Soulfull Ragi Bites Choco Fills</td>\n",
       "      <td>7KG</td>\n",
       "      <td>651</td>\n",
       "      <td>1</td>\n",
       "    </tr>\n",
       "    <tr>\n",
       "      <th>17</th>\n",
       "      <td>18</td>\n",
       "      <td>DCED-05457634</td>\n",
       "      <td>Soulfull Ragi Bites Choco Fills</td>\n",
       "      <td>9KG</td>\n",
       "      <td>651</td>\n",
       "      <td>0</td>\n",
       "    </tr>\n",
       "    <tr>\n",
       "      <th>18</th>\n",
       "      <td>19</td>\n",
       "      <td>DEDA-46755477</td>\n",
       "      <td>Soulfull Ragi Bites Choco Fills</td>\n",
       "      <td>11KG</td>\n",
       "      <td>1425</td>\n",
       "      <td>0</td>\n",
       "    </tr>\n",
       "    <tr>\n",
       "      <th>19</th>\n",
       "      <td>20</td>\n",
       "      <td>ECAE-85629691</td>\n",
       "      <td>Soulfull Ragi Bites Choco Fills</td>\n",
       "      <td>13KG</td>\n",
       "      <td>1051</td>\n",
       "      <td>1</td>\n",
       "    </tr>\n",
       "  </tbody>\n",
       "</table>\n",
       "</div>"
      ],
      "text/plain": [
       "    Productid    Productcode                      Productname   Sku  Rate  \\\n",
       "0           1  DCBA-90679037       Organic India Chyavanprash   9KG   965   \n",
       "1           2  CDDC-51350629       Organic India Chyavanprash  11KG  1003   \n",
       "2           3  DEDA-47245273       Organic India Chyavanprash  13KG   913   \n",
       "3           4  CEDD-03234853       Organic India Chyavanprash  15KG   920   \n",
       "4           5  AADC-19582363                   Aashirwad Atta  10KG   895   \n",
       "5           6  BAAD-18126959                   Aashirwad Atta  12KG  1147   \n",
       "6           7  EEBA-35667342                   Aashirwad Atta  14KG  1040   \n",
       "7           8  DBAE-74222755                   Aashirwad Atta  16KG   782   \n",
       "8           9  EBDD-05531476              Herbal Strategi Oil   4KG   850   \n",
       "9          10  DDDB-84879712              Herbal Strategi Oil   6KG  1147   \n",
       "10         11  DADA-89586728              Herbal Strategi Oil   8KG   865   \n",
       "11         12  EDDB-78105121              Herbal Strategi Oil  10KG  1013   \n",
       "12         13  EEBB-68754765    Herbal Strategi Floor Cleaner   6KG   834   \n",
       "13         14  DBCA-03997014    Herbal Strategi Floor Cleaner   8KG   997   \n",
       "14         15  EDBC-98142725    Herbal Strategi Floor Cleaner  10KG  1299   \n",
       "15         16  EDDE-19363147    Herbal Strategi Floor Cleaner  12KG   871   \n",
       "16         17  DDBA-49510369  Soulfull Ragi Bites Choco Fills   7KG   651   \n",
       "17         18  DCED-05457634  Soulfull Ragi Bites Choco Fills   9KG   651   \n",
       "18         19  DEDA-46755477  Soulfull Ragi Bites Choco Fills  11KG  1425   \n",
       "19         20  ECAE-85629691  Soulfull Ragi Bites Choco Fills  13KG  1051   \n",
       "\n",
       "   Isactive  \n",
       "0         0  \n",
       "1         0  \n",
       "2         0  \n",
       "3         0  \n",
       "4         0  \n",
       "5         1  \n",
       "6         1  \n",
       "7         0  \n",
       "8         0  \n",
       "9         0  \n",
       "10        1  \n",
       "11        0  \n",
       "12        0  \n",
       "13        1  \n",
       "14        1  \n",
       "15        1  \n",
       "16        1  \n",
       "17        0  \n",
       "18        0  \n",
       "19        1  "
      ]
     },
     "execution_count": 76,
     "metadata": {},
     "output_type": "execute_result"
    }
   ],
   "source": [
    "result.head(20)"
   ]
  },
  {
   "cell_type": "markdown",
   "id": "0b6b15e9",
   "metadata": {},
   "source": [
    "# Generate Order details table data"
   ]
  },
  {
   "cell_type": "code",
   "execution_count": 77,
   "id": "27c052a8",
   "metadata": {},
   "outputs": [],
   "source": [
    "#creating orders_recieved dataframe\n",
    "order_detail_fields = ['orderid', 'customerid', 'order_status_update_timestamp', 'order_status']\n",
    "orders_Received = pd.DataFrame(columns=order_detail_fields, index=range(1, 60001))\n",
    "\n",
    "x=1\n",
    "j=1\n",
    "for i in range(1, 20001):\n",
    "    f=fake.random_element(customer['customerid'])\n",
    "    for k in range (j,j+3):\n",
    "        orders_Received['orderid'][k] = x\n",
    "        orders_Received['customerid'][k]=f\n",
    "\n",
    "    orders_Received['order_status_update_timestamp'][j] = fake.date_time_this_year()\n",
    "    orders_Received['order_status'][j] = 'Received'\n",
    "    orders_Received['order_status_update_timestamp'][j+1] = orders_Received['order_status_update_timestamp'][j] + timedelta(seconds=fake.random_int(min=1, max=86400))\n",
    "    orders_Received['order_status'][j+1] = 'In_progress'\n",
    "    orders_Received['order_status_update_timestamp'][j+2] = orders_Received['order_status_update_timestamp'][j+1] + timedelta(seconds=fake.random_int(min=1, max=172800))\n",
    "    orders_Received['order_status'][j+2] = 'Delivered'\n",
    "    j+=3\n",
    "    x+=1"
   ]
  },
  {
   "cell_type": "markdown",
   "id": "317bdb13",
   "metadata": {},
   "source": [
    "### loading order details table"
   ]
  },
  {
   "cell_type": "code",
   "execution_count": 78,
   "id": "ea48b299",
   "metadata": {},
   "outputs": [
    {
     "data": {
      "text/plain": [
       "60000"
      ]
     },
     "execution_count": 78,
     "metadata": {},
     "output_type": "execute_result"
    }
   ],
   "source": [
    "orders_Received.to_sql('ORDER_DETAILS', con=db, if_exists='append',index=False)"
   ]
  },
  {
   "cell_type": "code",
   "execution_count": 79,
   "id": "664def07",
   "metadata": {},
   "outputs": [],
   "source": [
    "qry='select * from ORDER_DETAILS'"
   ]
  },
  {
   "cell_type": "code",
   "execution_count": 80,
   "id": "deffc8d0",
   "metadata": {},
   "outputs": [],
   "source": [
    "result= pd.read_sql(qry,con=db)"
   ]
  },
  {
   "cell_type": "code",
   "execution_count": 81,
   "id": "dbb882be",
   "metadata": {},
   "outputs": [
    {
     "data": {
      "text/html": [
       "<div>\n",
       "<style scoped>\n",
       "    .dataframe tbody tr th:only-of-type {\n",
       "        vertical-align: middle;\n",
       "    }\n",
       "\n",
       "    .dataframe tbody tr th {\n",
       "        vertical-align: top;\n",
       "    }\n",
       "\n",
       "    .dataframe thead th {\n",
       "        text-align: right;\n",
       "    }\n",
       "</style>\n",
       "<table border=\"1\" class=\"dataframe\">\n",
       "  <thead>\n",
       "    <tr style=\"text-align: right;\">\n",
       "      <th></th>\n",
       "      <th>Orderid</th>\n",
       "      <th>Customerid</th>\n",
       "      <th>Order_status_update_timestamp</th>\n",
       "      <th>Order_status</th>\n",
       "    </tr>\n",
       "  </thead>\n",
       "  <tbody>\n",
       "    <tr>\n",
       "      <th>0</th>\n",
       "      <td>1</td>\n",
       "      <td>435</td>\n",
       "      <td>2022-11-12 13:21:02</td>\n",
       "      <td>Delivered</td>\n",
       "    </tr>\n",
       "    <tr>\n",
       "      <th>1</th>\n",
       "      <td>1</td>\n",
       "      <td>435</td>\n",
       "      <td>2022-11-11 04:05:53</td>\n",
       "      <td>In_progress</td>\n",
       "    </tr>\n",
       "    <tr>\n",
       "      <th>2</th>\n",
       "      <td>1</td>\n",
       "      <td>435</td>\n",
       "      <td>2022-11-10 18:31:13</td>\n",
       "      <td>Received</td>\n",
       "    </tr>\n",
       "    <tr>\n",
       "      <th>3</th>\n",
       "      <td>2</td>\n",
       "      <td>71</td>\n",
       "      <td>2022-08-19 07:09:17</td>\n",
       "      <td>Delivered</td>\n",
       "    </tr>\n",
       "    <tr>\n",
       "      <th>4</th>\n",
       "      <td>2</td>\n",
       "      <td>71</td>\n",
       "      <td>2022-08-17 19:55:29</td>\n",
       "      <td>In_progress</td>\n",
       "    </tr>\n",
       "  </tbody>\n",
       "</table>\n",
       "</div>"
      ],
      "text/plain": [
       "   Orderid  Customerid Order_status_update_timestamp Order_status\n",
       "0        1         435           2022-11-12 13:21:02    Delivered\n",
       "1        1         435           2022-11-11 04:05:53  In_progress\n",
       "2        1         435           2022-11-10 18:31:13     Received\n",
       "3        2          71           2022-08-19 07:09:17    Delivered\n",
       "4        2          71           2022-08-17 19:55:29  In_progress"
      ]
     },
     "execution_count": 81,
     "metadata": {},
     "output_type": "execute_result"
    }
   ],
   "source": [
    "result.head()"
   ]
  },
  {
   "cell_type": "markdown",
   "id": "52e5d3ed",
   "metadata": {},
   "source": [
    "# Generate Order items table data "
   ]
  },
  {
   "cell_type": "code",
   "execution_count": 82,
   "id": "7ff9494d",
   "metadata": {},
   "outputs": [],
   "source": [
    "order_item_fields = ['orderid','productid','quantity']"
   ]
  },
  {
   "cell_type": "code",
   "execution_count": 83,
   "id": "aea93cce",
   "metadata": {},
   "outputs": [],
   "source": [
    "order_items = pd.DataFrame(columns=order_item_fields, index = range(1,50001))"
   ]
  },
  {
   "cell_type": "code",
   "execution_count": 84,
   "id": "380f9a2f",
   "metadata": {},
   "outputs": [],
   "source": [
    "for i in range(1,50001):\n",
    "    order_items['orderid'][i]=fake.random_element(orders_Received['orderid'])\n",
    "    order_items['productid'][i]=fake.random_element(product['Productid'])\n",
    "    order_items['quantity'][i]=fake.random_int(min=1, max=20)"
   ]
  },
  {
   "cell_type": "code",
   "execution_count": 85,
   "id": "463e45e6",
   "metadata": {},
   "outputs": [],
   "source": [
    "order_items = order_items.drop_duplicates(subset=['orderid', 'productid'],keep='first')"
   ]
  },
  {
   "cell_type": "markdown",
   "id": "9075dde5",
   "metadata": {},
   "source": [
    "### Loading ORDER_ITEMS table"
   ]
  },
  {
   "cell_type": "code",
   "execution_count": 86,
   "id": "7cfe8ec9",
   "metadata": {},
   "outputs": [
    {
     "data": {
      "text/plain": [
       "49706"
      ]
     },
     "execution_count": 86,
     "metadata": {},
     "output_type": "execute_result"
    }
   ],
   "source": [
    "order_items.to_sql('ORDER_ITEMS', con=db, if_exists='append',index=False)"
   ]
  },
  {
   "cell_type": "code",
   "execution_count": 87,
   "id": "b995cb7e",
   "metadata": {},
   "outputs": [],
   "source": [
    "qry='select * from ORDER_ITEMS'"
   ]
  },
  {
   "cell_type": "code",
   "execution_count": 88,
   "id": "17a3870f",
   "metadata": {},
   "outputs": [],
   "source": [
    "result= pd.read_sql(qry,con=db)"
   ]
  },
  {
   "cell_type": "code",
   "execution_count": 89,
   "id": "e4b940bf",
   "metadata": {},
   "outputs": [
    {
     "data": {
      "text/html": [
       "<div>\n",
       "<style scoped>\n",
       "    .dataframe tbody tr th:only-of-type {\n",
       "        vertical-align: middle;\n",
       "    }\n",
       "\n",
       "    .dataframe tbody tr th {\n",
       "        vertical-align: top;\n",
       "    }\n",
       "\n",
       "    .dataframe thead th {\n",
       "        text-align: right;\n",
       "    }\n",
       "</style>\n",
       "<table border=\"1\" class=\"dataframe\">\n",
       "  <thead>\n",
       "    <tr style=\"text-align: right;\">\n",
       "      <th></th>\n",
       "      <th>Orderid</th>\n",
       "      <th>Productid</th>\n",
       "      <th>Quantity</th>\n",
       "    </tr>\n",
       "  </thead>\n",
       "  <tbody>\n",
       "    <tr>\n",
       "      <th>0</th>\n",
       "      <td>1</td>\n",
       "      <td>71</td>\n",
       "      <td>14</td>\n",
       "    </tr>\n",
       "    <tr>\n",
       "      <th>1</th>\n",
       "      <td>1</td>\n",
       "      <td>170</td>\n",
       "      <td>20</td>\n",
       "    </tr>\n",
       "    <tr>\n",
       "      <th>2</th>\n",
       "      <td>2</td>\n",
       "      <td>12</td>\n",
       "      <td>10</td>\n",
       "    </tr>\n",
       "    <tr>\n",
       "      <th>3</th>\n",
       "      <td>3</td>\n",
       "      <td>52</td>\n",
       "      <td>9</td>\n",
       "    </tr>\n",
       "    <tr>\n",
       "      <th>4</th>\n",
       "      <td>4</td>\n",
       "      <td>43</td>\n",
       "      <td>13</td>\n",
       "    </tr>\n",
       "  </tbody>\n",
       "</table>\n",
       "</div>"
      ],
      "text/plain": [
       "   Orderid  Productid  Quantity\n",
       "0        1         71        14\n",
       "1        1        170        20\n",
       "2        2         12        10\n",
       "3        3         52         9\n",
       "4        4         43        13"
      ]
     },
     "execution_count": 89,
     "metadata": {},
     "output_type": "execute_result"
    }
   ],
   "source": [
    "result.head()"
   ]
  },
  {
   "cell_type": "code",
   "execution_count": null,
   "id": "6056480f",
   "metadata": {},
   "outputs": [],
   "source": []
  },
  {
   "cell_type": "code",
   "execution_count": null,
   "id": "4a954234",
   "metadata": {},
   "outputs": [],
   "source": []
  },
  {
   "cell_type": "code",
   "execution_count": null,
   "id": "26aa47d2",
   "metadata": {},
   "outputs": [],
   "source": []
  }
 ],
 "metadata": {
  "kernelspec": {
   "display_name": "Python 3 (ipykernel)",
   "language": "python",
   "name": "python3"
  },
  "language_info": {
   "codemirror_mode": {
    "name": "ipython",
    "version": 3
   },
   "file_extension": ".py",
   "mimetype": "text/x-python",
   "name": "python",
   "nbconvert_exporter": "python",
   "pygments_lexer": "ipython3",
   "version": "3.9.13"
  }
 },
 "nbformat": 4,
 "nbformat_minor": 5
}
