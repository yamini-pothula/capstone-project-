{
 "cells": [
  {
   "cell_type": "code",
   "execution_count": 72,
   "id": "068df49e",
   "metadata": {},
   "outputs": [],
   "source": [
    "#importing libraries\n",
    "import pandas as pd\n",
    "import numpy as np\n",
    "import mysql.connector\n",
    "from datetime import datetime, timedelta"
   ]
  },
  {
   "cell_type": "code",
   "execution_count": 73,
   "id": "1644c269",
   "metadata": {},
   "outputs": [],
   "source": [
    "from faker import Faker\n",
    "fake = Faker('en_IN')"
   ]
  },
  {
   "cell_type": "code",
   "execution_count": 74,
   "id": "03dab25f",
   "metadata": {},
   "outputs": [
    {
     "name": "stderr",
     "output_type": "stream",
     "text": [
      "C:\\Users\\pothula.yamini\\AppData\\Local\\Temp\\ipykernel_392\\2382207158.py:5: SADeprecationWarning: Calling URL() directly is deprecated and will be disabled in a future release.  The public constructor for URL is now the URL.create() method.\n",
      "  sqlalchemy.engine.url.URL(\n"
     ]
    }
   ],
   "source": [
    "#connection to sql database\n",
    "import sqlalchemy, pymysql\n",
    "from sqlalchemy.dialects import mysql\n",
    "import pandas as pd\n",
    "db = sqlalchemy.create_engine(\n",
    "     sqlalchemy.engine.url.URL(\n",
    "          drivername='mysql+pymysql',\n",
    "          username='root',\n",
    "          password=\"Yamini@kvt12\",\n",
    "          host='35.196.234.121',\n",
    "          database=\"ufh-db\"\n",
    "     )\n",
    ")"
   ]
  },
  {
   "cell_type": "code",
   "execution_count": 123,
   "id": "77ab1614",
   "metadata": {},
   "outputs": [],
   "source": [
    "#fetching max customer_id from customer_table in sql instance\n",
    "qry1='select max(customerid) as maxcustid from CUSTOMER_MASTER;'\n",
    "maxcustid= pd.read_sql(qry1,con=db)\n",
    "maxcustid=maxcustid.iat[0,0]"
   ]
  },
  {
   "cell_type": "code",
   "execution_count": 124,
   "id": "f1b17ed9",
   "metadata": {},
   "outputs": [],
   "source": [
    "#fetching max product_id from product_table in sql instance\n",
    "qry2='select max(Productid) from PRODUCT_MASTER;'\n",
    "maxprodid= pd.read_sql(qry2,con=db)\n",
    "maxprodid=maxprodid.iat[0,0]"
   ]
  },
  {
   "cell_type": "code",
   "execution_count": 125,
   "id": "effb1c6e",
   "metadata": {},
   "outputs": [
    {
     "name": "stdout",
     "output_type": "stream",
     "text": [
      "30000\n"
     ]
    }
   ],
   "source": [
    "#fetching max order_id from order_details table in sql instance\n",
    "qry3='select max(orderid) from ORDER_DETAILS;'\n",
    "orderid= pd.read_sql(qry3,con=db)\n",
    "orderid=orderid.iat[0,0]\n",
    "print(orderid)"
   ]
  },
  {
   "cell_type": "markdown",
   "id": "61fa2bc5",
   "metadata": {},
   "source": [
    "# incremental order details"
   ]
  },
  {
   "cell_type": "code",
   "execution_count": 126,
   "id": "3c98b34f",
   "metadata": {},
   "outputs": [],
   "source": [
    "#creating order_recieved dataframe of 5000 orders\n",
    "order_detail_fields = ['orderid', 'customerid', 'order_status_update_timestamp', 'order_status']\n",
    "orders_Received = pd.DataFrame(columns=order_detail_fields, index=range(1, 15001))\n",
    "\n",
    "x=orderid+1\n",
    "j=1\n",
    "for i in range(1, 5001):\n",
    "    f=fake.random_int(min=1, max=maxcustid)\n",
    "    for k in range (j,j+3):\n",
    "        orders_Received['orderid'][k] = x\n",
    "        orders_Received['customerid'][k]=f\n",
    "\n",
    "    orders_Received['order_status_update_timestamp'][j] = fake.date_time_this_year()\n",
    "    orders_Received['order_status'][j] = 'Received'\n",
    "    orders_Received['order_status_update_timestamp'][j+1] = orders_Received['order_status_update_timestamp'][j] + timedelta(seconds=fake.random_int(min=1, max=86400))\n",
    "    orders_Received['order_status'][j+1] = 'In_progress'\n",
    "    orders_Received['order_status_update_timestamp'][j+2] = orders_Received['order_status_update_timestamp'][j+1] + timedelta(seconds=fake.random_int(min=1, max=172800))\n",
    "    orders_Received['order_status'][j+2] = 'Delivered'\n",
    "    j+=3\n",
    "    x+=1"
   ]
  },
  {
   "cell_type": "code",
   "execution_count": 127,
   "id": "0209e5b3",
   "metadata": {},
   "outputs": [
    {
     "data": {
      "text/html": [
       "<div>\n",
       "<style scoped>\n",
       "    .dataframe tbody tr th:only-of-type {\n",
       "        vertical-align: middle;\n",
       "    }\n",
       "\n",
       "    .dataframe tbody tr th {\n",
       "        vertical-align: top;\n",
       "    }\n",
       "\n",
       "    .dataframe thead th {\n",
       "        text-align: right;\n",
       "    }\n",
       "</style>\n",
       "<table border=\"1\" class=\"dataframe\">\n",
       "  <thead>\n",
       "    <tr style=\"text-align: right;\">\n",
       "      <th></th>\n",
       "      <th>orderid</th>\n",
       "      <th>customerid</th>\n",
       "      <th>order_status_update_timestamp</th>\n",
       "      <th>order_status</th>\n",
       "    </tr>\n",
       "  </thead>\n",
       "  <tbody>\n",
       "    <tr>\n",
       "      <th>1</th>\n",
       "      <td>30001</td>\n",
       "      <td>914</td>\n",
       "      <td>2022-03-19 22:22:44</td>\n",
       "      <td>Received</td>\n",
       "    </tr>\n",
       "    <tr>\n",
       "      <th>2</th>\n",
       "      <td>30001</td>\n",
       "      <td>914</td>\n",
       "      <td>2022-03-20 14:47:03</td>\n",
       "      <td>In_progress</td>\n",
       "    </tr>\n",
       "    <tr>\n",
       "      <th>3</th>\n",
       "      <td>30001</td>\n",
       "      <td>914</td>\n",
       "      <td>2022-03-22 13:55:17</td>\n",
       "      <td>Delivered</td>\n",
       "    </tr>\n",
       "    <tr>\n",
       "      <th>4</th>\n",
       "      <td>30002</td>\n",
       "      <td>444</td>\n",
       "      <td>2022-10-10 14:08:21</td>\n",
       "      <td>Received</td>\n",
       "    </tr>\n",
       "    <tr>\n",
       "      <th>5</th>\n",
       "      <td>30002</td>\n",
       "      <td>444</td>\n",
       "      <td>2022-10-10 20:36:53</td>\n",
       "      <td>In_progress</td>\n",
       "    </tr>\n",
       "    <tr>\n",
       "      <th>...</th>\n",
       "      <td>...</td>\n",
       "      <td>...</td>\n",
       "      <td>...</td>\n",
       "      <td>...</td>\n",
       "    </tr>\n",
       "    <tr>\n",
       "      <th>14986</th>\n",
       "      <td>34996</td>\n",
       "      <td>830</td>\n",
       "      <td>2022-02-17 15:34:24</td>\n",
       "      <td>Received</td>\n",
       "    </tr>\n",
       "    <tr>\n",
       "      <th>14987</th>\n",
       "      <td>34996</td>\n",
       "      <td>830</td>\n",
       "      <td>2022-02-17 18:35:05</td>\n",
       "      <td>In_progress</td>\n",
       "    </tr>\n",
       "    <tr>\n",
       "      <th>14988</th>\n",
       "      <td>34996</td>\n",
       "      <td>830</td>\n",
       "      <td>2022-02-18 21:50:16</td>\n",
       "      <td>Delivered</td>\n",
       "    </tr>\n",
       "    <tr>\n",
       "      <th>14989</th>\n",
       "      <td>34997</td>\n",
       "      <td>242</td>\n",
       "      <td>2022-04-28 01:54:10</td>\n",
       "      <td>Received</td>\n",
       "    </tr>\n",
       "    <tr>\n",
       "      <th>14990</th>\n",
       "      <td>34997</td>\n",
       "      <td>242</td>\n",
       "      <td>2022-04-28 15:51:52</td>\n",
       "      <td>In_progress</td>\n",
       "    </tr>\n",
       "  </tbody>\n",
       "</table>\n",
       "<p>14990 rows × 4 columns</p>\n",
       "</div>"
      ],
      "text/plain": [
       "      orderid customerid order_status_update_timestamp order_status\n",
       "1       30001        914           2022-03-19 22:22:44     Received\n",
       "2       30001        914           2022-03-20 14:47:03  In_progress\n",
       "3       30001        914           2022-03-22 13:55:17    Delivered\n",
       "4       30002        444           2022-10-10 14:08:21     Received\n",
       "5       30002        444           2022-10-10 20:36:53  In_progress\n",
       "...       ...        ...                           ...          ...\n",
       "14986   34996        830           2022-02-17 15:34:24     Received\n",
       "14987   34996        830           2022-02-17 18:35:05  In_progress\n",
       "14988   34996        830           2022-02-18 21:50:16    Delivered\n",
       "14989   34997        242           2022-04-28 01:54:10     Received\n",
       "14990   34997        242           2022-04-28 15:51:52  In_progress\n",
       "\n",
       "[14990 rows x 4 columns]"
      ]
     },
     "execution_count": 127,
     "metadata": {},
     "output_type": "execute_result"
    }
   ],
   "source": [
    "orders_Received.head(-10)"
   ]
  },
  {
   "cell_type": "markdown",
   "id": "9f19989f",
   "metadata": {},
   "source": [
    "## loading"
   ]
  },
  {
   "cell_type": "code",
   "execution_count": 128,
   "id": "ea48b299",
   "metadata": {},
   "outputs": [
    {
     "data": {
      "text/plain": [
       "15000"
      ]
     },
     "execution_count": 128,
     "metadata": {},
     "output_type": "execute_result"
    }
   ],
   "source": [
    "#appending dataframe into order_details table\n",
    "orders_Received.to_sql('ORDER_DETAILS', con=db, if_exists='append',index=False)"
   ]
  },
  {
   "cell_type": "markdown",
   "id": "9491d607",
   "metadata": {},
   "source": [
    "# incremental order items"
   ]
  },
  {
   "cell_type": "code",
   "execution_count": 129,
   "id": "b276b96a",
   "metadata": {},
   "outputs": [],
   "source": [
    "order_item_fields = ['orderid','productid','quantity']"
   ]
  },
  {
   "cell_type": "code",
   "execution_count": 130,
   "id": "683d1fd7",
   "metadata": {},
   "outputs": [],
   "source": [
    "order_items = pd.DataFrame(columns=order_item_fields, index = range(1,5001))"
   ]
  },
  {
   "cell_type": "code",
   "execution_count": 131,
   "id": "3917833c",
   "metadata": {},
   "outputs": [],
   "source": [
    "for i in range(1,5001):\n",
    "    order_items['orderid'][i]=fake.random_element(orders_Received['orderid'])\n",
    "    order_items['productid'][i]=fake.random_int(min=1, max=maxprodid)\n",
    "    order_items['quantity'][i]=fake.random_int(min=1, max=20)"
   ]
  },
  {
   "cell_type": "code",
   "execution_count": 132,
   "id": "ddaca5ff",
   "metadata": {},
   "outputs": [],
   "source": [
    "order_items = order_items.drop_duplicates(subset=['orderid', 'productid'],keep='first')"
   ]
  },
  {
   "cell_type": "code",
   "execution_count": 133,
   "id": "ebc214ee",
   "metadata": {},
   "outputs": [
    {
     "data": {
      "text/html": [
       "<div>\n",
       "<style scoped>\n",
       "    .dataframe tbody tr th:only-of-type {\n",
       "        vertical-align: middle;\n",
       "    }\n",
       "\n",
       "    .dataframe tbody tr th {\n",
       "        vertical-align: top;\n",
       "    }\n",
       "\n",
       "    .dataframe thead th {\n",
       "        text-align: right;\n",
       "    }\n",
       "</style>\n",
       "<table border=\"1\" class=\"dataframe\">\n",
       "  <thead>\n",
       "    <tr style=\"text-align: right;\">\n",
       "      <th></th>\n",
       "      <th>orderid</th>\n",
       "      <th>productid</th>\n",
       "      <th>quantity</th>\n",
       "    </tr>\n",
       "  </thead>\n",
       "  <tbody>\n",
       "    <tr>\n",
       "      <th>1</th>\n",
       "      <td>33695</td>\n",
       "      <td>179</td>\n",
       "      <td>5</td>\n",
       "    </tr>\n",
       "    <tr>\n",
       "      <th>2</th>\n",
       "      <td>33070</td>\n",
       "      <td>118</td>\n",
       "      <td>12</td>\n",
       "    </tr>\n",
       "    <tr>\n",
       "      <th>3</th>\n",
       "      <td>34979</td>\n",
       "      <td>36</td>\n",
       "      <td>1</td>\n",
       "    </tr>\n",
       "    <tr>\n",
       "      <th>4</th>\n",
       "      <td>31580</td>\n",
       "      <td>51</td>\n",
       "      <td>12</td>\n",
       "    </tr>\n",
       "    <tr>\n",
       "      <th>5</th>\n",
       "      <td>32710</td>\n",
       "      <td>82</td>\n",
       "      <td>18</td>\n",
       "    </tr>\n",
       "    <tr>\n",
       "      <th>...</th>\n",
       "      <td>...</td>\n",
       "      <td>...</td>\n",
       "      <td>...</td>\n",
       "    </tr>\n",
       "    <tr>\n",
       "      <th>4986</th>\n",
       "      <td>33286</td>\n",
       "      <td>112</td>\n",
       "      <td>7</td>\n",
       "    </tr>\n",
       "    <tr>\n",
       "      <th>4987</th>\n",
       "      <td>34901</td>\n",
       "      <td>158</td>\n",
       "      <td>8</td>\n",
       "    </tr>\n",
       "    <tr>\n",
       "      <th>4988</th>\n",
       "      <td>31900</td>\n",
       "      <td>41</td>\n",
       "      <td>11</td>\n",
       "    </tr>\n",
       "    <tr>\n",
       "      <th>4989</th>\n",
       "      <td>32880</td>\n",
       "      <td>122</td>\n",
       "      <td>6</td>\n",
       "    </tr>\n",
       "    <tr>\n",
       "      <th>4990</th>\n",
       "      <td>30307</td>\n",
       "      <td>148</td>\n",
       "      <td>11</td>\n",
       "    </tr>\n",
       "  </tbody>\n",
       "</table>\n",
       "<p>4982 rows × 3 columns</p>\n",
       "</div>"
      ],
      "text/plain": [
       "     orderid productid quantity\n",
       "1      33695       179        5\n",
       "2      33070       118       12\n",
       "3      34979        36        1\n",
       "4      31580        51       12\n",
       "5      32710        82       18\n",
       "...      ...       ...      ...\n",
       "4986   33286       112        7\n",
       "4987   34901       158        8\n",
       "4988   31900        41       11\n",
       "4989   32880       122        6\n",
       "4990   30307       148       11\n",
       "\n",
       "[4982 rows x 3 columns]"
      ]
     },
     "execution_count": 133,
     "metadata": {},
     "output_type": "execute_result"
    }
   ],
   "source": [
    "order_items.head(-10)"
   ]
  },
  {
   "cell_type": "markdown",
   "id": "26fc5d4e",
   "metadata": {},
   "source": [
    "## loading"
   ]
  },
  {
   "cell_type": "code",
   "execution_count": 134,
   "id": "b76adde2",
   "metadata": {},
   "outputs": [
    {
     "data": {
      "text/plain": [
       "4992"
      ]
     },
     "execution_count": 134,
     "metadata": {},
     "output_type": "execute_result"
    }
   ],
   "source": [
    "order_items.to_sql('ORDER_ITEMS', con=db, if_exists='append',index=False)"
   ]
  },
  {
   "cell_type": "code",
   "execution_count": null,
   "id": "33dd4318",
   "metadata": {},
   "outputs": [],
   "source": []
  },
  {
   "cell_type": "code",
   "execution_count": null,
   "id": "d236558c",
   "metadata": {},
   "outputs": [],
   "source": []
  },
  {
   "cell_type": "code",
   "execution_count": null,
   "id": "de4c9eb0",
   "metadata": {},
   "outputs": [],
   "source": []
  },
  {
   "cell_type": "code",
   "execution_count": null,
   "id": "c67be31c",
   "metadata": {},
   "outputs": [],
   "source": []
  },
  {
   "cell_type": "code",
   "execution_count": null,
   "id": "9983c05e",
   "metadata": {},
   "outputs": [],
   "source": []
  },
  {
   "cell_type": "code",
   "execution_count": null,
   "id": "33909d0a",
   "metadata": {},
   "outputs": [],
   "source": []
  },
  {
   "cell_type": "code",
   "execution_count": null,
   "id": "a5ea19ca",
   "metadata": {},
   "outputs": [],
   "source": []
  },
  {
   "cell_type": "code",
   "execution_count": null,
   "id": "8deac6c9",
   "metadata": {},
   "outputs": [],
   "source": []
  }
 ],
 "metadata": {
  "kernelspec": {
   "display_name": "Python 3 (ipykernel)",
   "language": "python",
   "name": "python3"
  },
  "language_info": {
   "codemirror_mode": {
    "name": "ipython",
    "version": 3
   },
   "file_extension": ".py",
   "mimetype": "text/x-python",
   "name": "python",
   "nbconvert_exporter": "python",
   "pygments_lexer": "ipython3",
   "version": "3.9.13"
  }
 },
 "nbformat": 4,
 "nbformat_minor": 5
}
